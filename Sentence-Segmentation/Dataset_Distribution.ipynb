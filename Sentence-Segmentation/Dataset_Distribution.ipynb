{
 "cells": [
  {
   "cell_type": "code",
   "execution_count": 1,
   "id": "a14e81b3",
   "metadata": {},
   "outputs": [],
   "source": [
    "import pandas as pd\n",
    "import numpy as np\n",
    "import matplotlib.pyplot as plt\n",
    "import seaborn as sns\n",
    "import ast\n",
    "import glob"
   ]
  },
  {
   "cell_type": "markdown",
   "id": "1c3763f4",
   "metadata": {},
   "source": [
    "## Utility Functions"
   ]
  },
  {
   "cell_type": "code",
   "execution_count": 7,
   "id": "ebb44343",
   "metadata": {},
   "outputs": [],
   "source": [
    "def extract_form(form):\n",
    "  actual_form = form.split('-')\n",
    "  return actual_form[0] + '-' + actual_form[1]"
   ]
  },
  {
   "cell_type": "markdown",
   "id": "66763040",
   "metadata": {},
   "source": [
    "## IAM Dataset Distribution"
   ]
  },
  {
   "cell_type": "code",
   "execution_count": 4,
   "id": "44cb6632",
   "metadata": {},
   "outputs": [
    {
     "data": {
      "text/plain": [
       "NativeLanguage\n",
       "German    19\n",
       "French    16\n",
       "Name: count, dtype: int64"
      ]
     },
     "execution_count": 4,
     "metadata": {},
     "output_type": "execute_result"
    }
   ],
   "source": [
    "iam_writer_info = pd.read_csv('../Data/Writers-info.csv')\n",
    "iam_writer_info = iam_writer_info.loc[iam_writer_info['NativeLanguage'] != 'Swiss German']\n",
    "iam_writer_info['NativeLanguage'].value_counts()"
   ]
  },
  {
   "cell_type": "code",
   "execution_count": null,
   "id": "c450aa92",
   "metadata": {},
   "outputs": [],
   "source": []
  },
  {
   "cell_type": "markdown",
   "id": "438930f0",
   "metadata": {},
   "source": [
    "## Bristol-Corpus Distribution"
   ]
  },
  {
   "cell_type": "code",
   "execution_count": null,
   "id": "b0ba7c55",
   "metadata": {},
   "outputs": [
    {
     "data": {
      "text/plain": [
       "NativeLanguage\n",
       "English    22\n",
       "Name: count, dtype: int64"
      ]
     },
     "execution_count": 6,
     "metadata": {},
     "output_type": "execute_result"
    }
   ],
   "source": [
    "bristol_writer_info = pd.read_csv('../Data/Bristol-Corpus/English-GrayScale/english_df.csv')\n",
    "bristol_writer_info['NativeLanguage'].value_counts()\n"
   ]
  },
  {
   "cell_type": "markdown",
   "id": "59287b4e",
   "metadata": {},
   "source": [
    "## Comparison Between Two Datasets"
   ]
  },
  {
   "cell_type": "code",
   "execution_count": null,
   "id": "6dfc269a",
   "metadata": {},
   "outputs": [],
   "source": [
    "fig, axes = plt.subplots(1, 2, figsize=(12, 5))\n",
    "\n",
    "writers_info = pd.read_csv('./Final-Data/new-writers-info.csv')\n",
    "writers_info = writers_info.loc[writers_info['NativeLanguage'] != 'English']\n",
    "feature_store = pd.read_csv('./Final-Data/All-Writers-Feature-Vectors-GrayScale.csv', index_col=[0])\n",
    "images_per_writer_per_class = feature_store[['name', 'form']]\n",
    "images_per_writer_per_class = pd.merge(images_per_writer_per_class, writers_info[['name', 'NativeLanguage']], how='inner', on='name')\n",
    "images_per_writer_per_class['cnt'] = 1\n",
    "images_per_writer_per_class = images_per_writer_per_class.rename(columns={'form': 'image'})\n",
    "images_per_writer_per_class['form'] = np.vectorize(extract_form)(images_per_writer_per_class['image'])\n",
    "\n",
    "# display(images_per_writer_per_class)\n",
    "images_per_writer_per_class_group = images_per_writer_per_class.groupby(['name','NativeLanguage'], as_index=False).sum()\n",
    "display(images_per_writer_per_class_group)\n",
    "\n",
    "# IAM-DB Plot\n",
    "sns.histplot(data=images_per_writer_per_class_group['cnt'], kde=True, ax=axes[0], bins=6, color=\"skyblue\")\n",
    "axes[0].set_title(\"IAM-DB (German & French Writers)\")\n",
    "axes[0].set_xlabel(\"Number of Sentence-Level Images per Writer\")\n",
    "axes[0].set_ylabel(\"Number of Writers\")\n",
    "\n",
    "english_writer_info = pd.read_csv('../Data/Bristol-Corpus/English-GrayScale/english_df.csv')\n",
    "\n",
    "num_img_list = []\n",
    "for i in english_writer_info['images_path']:\n",
    "  i = ast.literal_eval(i)\n",
    "  for j in i:\n",
    "    j = j.replace('./', '../')\n",
    "    image_list = glob.glob(j)\n",
    "    # print(image_list)\n",
    "    num_img_list.append(len(image_list))\n",
    "    \n",
    "english_writer_info['num_img'] = num_img_list\n",
    "# display(english_writer_info)\n",
    "# Bristol Plot\n",
    "sns.histplot(data=english_writer_info['num_img'], kde=True, ax=axes[1], bins=6, color=\"lightgreen\")\n",
    "axes[1].set_title(\"Bristol Corpus (English Writers)\")\n",
    "axes[1].set_xlabel(\"Number of Sentence-Level Images per Writer\")\n",
    "axes[1].set_ylabel(\"\")\n",
    "\n",
    "plt.tight_layout()"
   ]
  }
 ],
 "metadata": {
  "kernelspec": {
   "display_name": "venv",
   "language": "python",
   "name": "python3"
  },
  "language_info": {
   "codemirror_mode": {
    "name": "ipython",
    "version": 3
   },
   "file_extension": ".py",
   "mimetype": "text/x-python",
   "name": "python",
   "nbconvert_exporter": "python",
   "pygments_lexer": "ipython3",
   "version": "3.11.6"
  }
 },
 "nbformat": 4,
 "nbformat_minor": 5
}
